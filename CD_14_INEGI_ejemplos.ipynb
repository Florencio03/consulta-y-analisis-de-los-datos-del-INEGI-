{
 "cells": [
  {
   "cell_type": "markdown",
   "metadata": {},
   "source": [
    "<!--Información del curso-->\n",
    "<img align=\"left\" style=\"padding-right:10px;\" src=\"figuras/logo_cd.png\">"
   ]
  },
  {
   "cell_type": "markdown",
   "metadata": {},
   "source": [
    "<center><h1 style=\"font-size:2em;color:#2467C0\"> Datos del INEGI  </h1></center>\n",
    "<br>\n",
    "<table>\n",
    "<col width=\"550\">\n",
    "<col width=\"450\">\n",
    "<tr>\n",
    "<td><img src=\"figuras/inegi.png\" align=\"middle\" style=\"width:500\"/></td>\n",
    "<td>\n",
    "    \n",
    "El **INEGI** es un organismo público autónomo responsable de normar y coordinar el Sistema Nacional de Información Estadística y Geográfica, así como de captar y difundir información de México en cuanto al territorio, los recursos, la población y economía, que permita dar a conocer las características de nuestro país y ayudar a la toma de decisiones.\n",
    "    \n",
    "</td>\n",
    "</tr>\n",
    "</table>"
   ]
  },
  {
   "cell_type": "markdown",
   "metadata": {},
   "source": [
    "# API del Banco de Indicadores"
   ]
  },
  {
   "cell_type": "markdown",
   "metadata": {},
   "source": [
    "La API de Indicadores del INEGI permite consultar los datos y metadatos de los indicadores disponibles a nivel nacional, por entidad federativa y municipio. Puede utilizar la API para crear aplicaciones que muestren la información directamente de las bases de datos del INEGI en el preciso momento en que se actualiza.\n",
    "[[1]](https://www.inegi.org.mx/servicios/api_indicadores.html) "
   ]
  },
  {
   "cell_type": "markdown",
   "metadata": {},
   "source": [
    "<img src=\"figuras/Inegi_token.jpg\" align=\"middle\" style=\"width:1000px\"/>\n"
   ]
  },
  {
   "cell_type": "markdown",
   "metadata": {},
   "source": [
    "#  Historico de Población en México"
   ]
  },
  {
   "cell_type": "markdown",
   "metadata": {},
   "source": [
    "<div class=\"alert alert-success\">\n",
    "1. Graficar el crecimiento de la población total, así como el de hombres y mujeres\n",
    "</div>"
   ]
  },
  {
   "cell_type": "code",
   "execution_count": 54,
   "metadata": {},
   "outputs": [],
   "source": [
    "import matplotlib.pyplot as plt\n",
    "import numpy as np\n",
    "import pandas as pd\n",
    "import requests\n",
    "import json  \n",
    "plt.style.use('fast')"
   ]
  },
  {
   "cell_type": "code",
   "execution_count": 12,
   "metadata": {},
   "outputs": [
    {
     "data": {
      "text/plain": [
       "200"
      ]
     },
     "execution_count": 12,
     "metadata": {},
     "output_type": "execute_result"
    }
   ],
   "source": [
    "#Llamado al API\n",
    "#2fa09423-56ad-0077-93c3-406e97234944   ---> my TOKEN \n",
    "url='https://www.inegi.org.mx/app/api/indicadores/desarrolladores/jsonxml/INDICATOR/1002000002/es/0700/false/BISE/2.0/2fa09423-56ad-0077-93c3-406e97234944?type=json'\n",
    "respuesta = requests.get(url)\n",
    "respuesta.status_code"
   ]
  },
  {
   "cell_type": "code",
   "execution_count": 13,
   "metadata": {
    "scrolled": true
   },
   "outputs": [
    {
     "data": {
      "text/plain": [
       "{'Header': {'Name': 'Datos compactos BISE',\n",
       "  'Email': 'atencion.usuarios@inegi.org.mx'},\n",
       " 'Series': [{'INDICADOR': '1002000002',\n",
       "   'FREQ': '7',\n",
       "   'TOPIC': '123',\n",
       "   'UNIT': '96',\n",
       "   'UNIT_MULT': '',\n",
       "   'NOTE': '1398',\n",
       "   'SOURCE': '2,3,343,487,781,1668,1669,1670,1671,1672,1677,1678,1679,3001',\n",
       "   'LASTUPDATE': '25/05/2022',\n",
       "   'STATUS': '3',\n",
       "   'OBSERVATIONS': [{'TIME_PERIOD': '1910',\n",
       "     'OBS_VALUE': '7504471.00000000000000000000',\n",
       "     'OBS_EXCEPTION': None,\n",
       "     'OBS_STATUS': '3',\n",
       "     'OBS_SOURCE': '',\n",
       "     'OBS_NOTE': '',\n",
       "     'COBER_GEO': '0700'},\n",
       "    {'TIME_PERIOD': '1921',\n",
       "     'OBS_VALUE': '7003785.00000000000000000000',\n",
       "     'OBS_EXCEPTION': None,\n",
       "     'OBS_STATUS': '3',\n",
       "     'OBS_SOURCE': '',\n",
       "     'OBS_NOTE': '',\n",
       "     'COBER_GEO': '0700'},\n",
       "    {'TIME_PERIOD': '1930',\n",
       "     'OBS_VALUE': '8119004.00000000000000000000',\n",
       "     'OBS_EXCEPTION': None,\n",
       "     'OBS_STATUS': '3',\n",
       "     'OBS_SOURCE': '',\n",
       "     'OBS_NOTE': '',\n",
       "     'COBER_GEO': '0700'},\n",
       "    {'TIME_PERIOD': '1940',\n",
       "     'OBS_VALUE': '9695787.00000000000000000000',\n",
       "     'OBS_EXCEPTION': None,\n",
       "     'OBS_STATUS': '3',\n",
       "     'OBS_SOURCE': '',\n",
       "     'OBS_NOTE': '',\n",
       "     'COBER_GEO': '0700'},\n",
       "    {'TIME_PERIOD': '1950',\n",
       "     'OBS_VALUE': '12696935.00000000000000000000',\n",
       "     'OBS_EXCEPTION': None,\n",
       "     'OBS_STATUS': '3',\n",
       "     'OBS_SOURCE': '',\n",
       "     'OBS_NOTE': '',\n",
       "     'COBER_GEO': '0700'},\n",
       "    {'TIME_PERIOD': '1960',\n",
       "     'OBS_VALUE': '17415320.00000000000000000000',\n",
       "     'OBS_EXCEPTION': None,\n",
       "     'OBS_STATUS': '3',\n",
       "     'OBS_SOURCE': '',\n",
       "     'OBS_NOTE': '',\n",
       "     'COBER_GEO': '0700'},\n",
       "    {'TIME_PERIOD': '1970',\n",
       "     'OBS_VALUE': '24065614.00000000000000000000',\n",
       "     'OBS_EXCEPTION': None,\n",
       "     'OBS_STATUS': '3',\n",
       "     'OBS_SOURCE': '',\n",
       "     'OBS_NOTE': '',\n",
       "     'COBER_GEO': '0700'},\n",
       "    {'TIME_PERIOD': '1980',\n",
       "     'OBS_VALUE': '33039307.00000000000000000000',\n",
       "     'OBS_EXCEPTION': None,\n",
       "     'OBS_STATUS': '3',\n",
       "     'OBS_SOURCE': '',\n",
       "     'OBS_NOTE': '',\n",
       "     'COBER_GEO': '0700'},\n",
       "    {'TIME_PERIOD': '1990',\n",
       "     'OBS_VALUE': '39893969.00000000000000000000',\n",
       "     'OBS_EXCEPTION': None,\n",
       "     'OBS_STATUS': '3',\n",
       "     'OBS_SOURCE': '',\n",
       "     'OBS_NOTE': '',\n",
       "     'COBER_GEO': '0700'},\n",
       "    {'TIME_PERIOD': '1995',\n",
       "     'OBS_VALUE': '44900499.00000000000000000000',\n",
       "     'OBS_EXCEPTION': None,\n",
       "     'OBS_STATUS': '3',\n",
       "     'OBS_SOURCE': '',\n",
       "     'OBS_NOTE': '422,425',\n",
       "     'COBER_GEO': '0700'},\n",
       "    {'TIME_PERIOD': '2000',\n",
       "     'OBS_VALUE': '47592253.00000000000000000000',\n",
       "     'OBS_EXCEPTION': None,\n",
       "     'OBS_STATUS': '3',\n",
       "     'OBS_SOURCE': '',\n",
       "     'OBS_NOTE': '9,425',\n",
       "     'COBER_GEO': '0700'},\n",
       "    {'TIME_PERIOD': '2005',\n",
       "     'OBS_VALUE': '50249955.00000000000000000000',\n",
       "     'OBS_EXCEPTION': None,\n",
       "     'OBS_STATUS': '3',\n",
       "     'OBS_SOURCE': '',\n",
       "     'OBS_NOTE': '49,425',\n",
       "     'COBER_GEO': '0700'},\n",
       "    {'TIME_PERIOD': '2010',\n",
       "     'OBS_VALUE': '54855231.00000000000000000000',\n",
       "     'OBS_EXCEPTION': None,\n",
       "     'OBS_STATUS': '3',\n",
       "     'OBS_SOURCE': '',\n",
       "     'OBS_NOTE': '115,425',\n",
       "     'COBER_GEO': '0700'},\n",
       "    {'TIME_PERIOD': '2020',\n",
       "     'OBS_VALUE': '61473390.00000000000000000000',\n",
       "     'OBS_EXCEPTION': None,\n",
       "     'OBS_STATUS': '3',\n",
       "     'OBS_SOURCE': '',\n",
       "     'OBS_NOTE': '',\n",
       "     'COBER_GEO': '0700'}]}]}"
      ]
     },
     "execution_count": 13,
     "metadata": {},
     "output_type": "execute_result"
    }
   ],
   "source": [
    "url='https://www.inegi.org.mx/app/api/indicadores/desarrolladores/jsonxml/INDICATOR/1002000002/es/0700/false/BISE/2.0/2fa09423-56ad-0077-93c3-406e97234944?type=json'\n",
    "respuesta = requests.get(url)\n",
    "if respuesta.status_code == 200:\n",
    "    #print(respuesta.content)\n",
    "    contenido = json.loads(respuesta.content)\n",
    "contenido"
   ]
  },
  {
   "cell_type": "code",
   "execution_count": 8,
   "metadata": {},
   "outputs": [
    {
     "data": {
      "text/plain": [
       "2"
      ]
     },
     "execution_count": 8,
     "metadata": {},
     "output_type": "execute_result"
    }
   ],
   "source": [
    "len(contenido)"
   ]
  },
  {
   "cell_type": "code",
   "execution_count": 14,
   "metadata": {
    "scrolled": true
   },
   "outputs": [
    {
     "data": {
      "text/plain": [
       "[{'INDICADOR': '1002000002',\n",
       "  'FREQ': '7',\n",
       "  'TOPIC': '123',\n",
       "  'UNIT': '96',\n",
       "  'UNIT_MULT': '',\n",
       "  'NOTE': '1398',\n",
       "  'SOURCE': '2,3,343,487,781,1668,1669,1670,1671,1672,1677,1678,1679,3001',\n",
       "  'LASTUPDATE': '25/05/2022',\n",
       "  'STATUS': '3',\n",
       "  'OBSERVATIONS': [{'TIME_PERIOD': '1910',\n",
       "    'OBS_VALUE': '7504471.00000000000000000000',\n",
       "    'OBS_EXCEPTION': None,\n",
       "    'OBS_STATUS': '3',\n",
       "    'OBS_SOURCE': '',\n",
       "    'OBS_NOTE': '',\n",
       "    'COBER_GEO': '0700'},\n",
       "   {'TIME_PERIOD': '1921',\n",
       "    'OBS_VALUE': '7003785.00000000000000000000',\n",
       "    'OBS_EXCEPTION': None,\n",
       "    'OBS_STATUS': '3',\n",
       "    'OBS_SOURCE': '',\n",
       "    'OBS_NOTE': '',\n",
       "    'COBER_GEO': '0700'},\n",
       "   {'TIME_PERIOD': '1930',\n",
       "    'OBS_VALUE': '8119004.00000000000000000000',\n",
       "    'OBS_EXCEPTION': None,\n",
       "    'OBS_STATUS': '3',\n",
       "    'OBS_SOURCE': '',\n",
       "    'OBS_NOTE': '',\n",
       "    'COBER_GEO': '0700'},\n",
       "   {'TIME_PERIOD': '1940',\n",
       "    'OBS_VALUE': '9695787.00000000000000000000',\n",
       "    'OBS_EXCEPTION': None,\n",
       "    'OBS_STATUS': '3',\n",
       "    'OBS_SOURCE': '',\n",
       "    'OBS_NOTE': '',\n",
       "    'COBER_GEO': '0700'},\n",
       "   {'TIME_PERIOD': '1950',\n",
       "    'OBS_VALUE': '12696935.00000000000000000000',\n",
       "    'OBS_EXCEPTION': None,\n",
       "    'OBS_STATUS': '3',\n",
       "    'OBS_SOURCE': '',\n",
       "    'OBS_NOTE': '',\n",
       "    'COBER_GEO': '0700'},\n",
       "   {'TIME_PERIOD': '1960',\n",
       "    'OBS_VALUE': '17415320.00000000000000000000',\n",
       "    'OBS_EXCEPTION': None,\n",
       "    'OBS_STATUS': '3',\n",
       "    'OBS_SOURCE': '',\n",
       "    'OBS_NOTE': '',\n",
       "    'COBER_GEO': '0700'},\n",
       "   {'TIME_PERIOD': '1970',\n",
       "    'OBS_VALUE': '24065614.00000000000000000000',\n",
       "    'OBS_EXCEPTION': None,\n",
       "    'OBS_STATUS': '3',\n",
       "    'OBS_SOURCE': '',\n",
       "    'OBS_NOTE': '',\n",
       "    'COBER_GEO': '0700'},\n",
       "   {'TIME_PERIOD': '1980',\n",
       "    'OBS_VALUE': '33039307.00000000000000000000',\n",
       "    'OBS_EXCEPTION': None,\n",
       "    'OBS_STATUS': '3',\n",
       "    'OBS_SOURCE': '',\n",
       "    'OBS_NOTE': '',\n",
       "    'COBER_GEO': '0700'},\n",
       "   {'TIME_PERIOD': '1990',\n",
       "    'OBS_VALUE': '39893969.00000000000000000000',\n",
       "    'OBS_EXCEPTION': None,\n",
       "    'OBS_STATUS': '3',\n",
       "    'OBS_SOURCE': '',\n",
       "    'OBS_NOTE': '',\n",
       "    'COBER_GEO': '0700'},\n",
       "   {'TIME_PERIOD': '1995',\n",
       "    'OBS_VALUE': '44900499.00000000000000000000',\n",
       "    'OBS_EXCEPTION': None,\n",
       "    'OBS_STATUS': '3',\n",
       "    'OBS_SOURCE': '',\n",
       "    'OBS_NOTE': '422,425',\n",
       "    'COBER_GEO': '0700'},\n",
       "   {'TIME_PERIOD': '2000',\n",
       "    'OBS_VALUE': '47592253.00000000000000000000',\n",
       "    'OBS_EXCEPTION': None,\n",
       "    'OBS_STATUS': '3',\n",
       "    'OBS_SOURCE': '',\n",
       "    'OBS_NOTE': '9,425',\n",
       "    'COBER_GEO': '0700'},\n",
       "   {'TIME_PERIOD': '2005',\n",
       "    'OBS_VALUE': '50249955.00000000000000000000',\n",
       "    'OBS_EXCEPTION': None,\n",
       "    'OBS_STATUS': '3',\n",
       "    'OBS_SOURCE': '',\n",
       "    'OBS_NOTE': '49,425',\n",
       "    'COBER_GEO': '0700'},\n",
       "   {'TIME_PERIOD': '2010',\n",
       "    'OBS_VALUE': '54855231.00000000000000000000',\n",
       "    'OBS_EXCEPTION': None,\n",
       "    'OBS_STATUS': '3',\n",
       "    'OBS_SOURCE': '',\n",
       "    'OBS_NOTE': '115,425',\n",
       "    'COBER_GEO': '0700'},\n",
       "   {'TIME_PERIOD': '2020',\n",
       "    'OBS_VALUE': '61473390.00000000000000000000',\n",
       "    'OBS_EXCEPTION': None,\n",
       "    'OBS_STATUS': '3',\n",
       "    'OBS_SOURCE': '',\n",
       "    'OBS_NOTE': '',\n",
       "    'COBER_GEO': '0700'}]}]"
      ]
     },
     "execution_count": 14,
     "metadata": {},
     "output_type": "execute_result"
    }
   ],
   "source": [
    "contenido['Series']"
   ]
  },
  {
   "cell_type": "code",
   "execution_count": 20,
   "metadata": {
    "scrolled": true
   },
   "outputs": [],
   "source": [
    "datos_hombres = contenido['Series'][0]['OBSERVATIONS']"
   ]
  },
  {
   "cell_type": "code",
   "execution_count": 26,
   "metadata": {},
   "outputs": [],
   "source": [
    "poblacion_hombres = []\n",
    "periodo = []\n",
    "for dato in datos_hombres: \n",
    "    poblacion_hombres.append( int(float( dato['OBS_VALUE']) ) )\n",
    "    periodo.append( int( dato['TIME_PERIOD'] ) )"
   ]
  },
  {
   "cell_type": "code",
   "execution_count": 24,
   "metadata": {},
   "outputs": [
    {
     "data": {
      "text/plain": [
       "[7504471,\n",
       " 7003785,\n",
       " 8119004,\n",
       " 9695787,\n",
       " 12696935,\n",
       " 17415320,\n",
       " 24065614,\n",
       " 33039307,\n",
       " 39893969,\n",
       " 44900499,\n",
       " 47592253,\n",
       " 50249955,\n",
       " 54855231,\n",
       " 61473390]"
      ]
     },
     "execution_count": 24,
     "metadata": {},
     "output_type": "execute_result"
    }
   ],
   "source": [
    "poblacion_hombres"
   ]
  },
  {
   "cell_type": "code",
   "execution_count": 27,
   "metadata": {},
   "outputs": [
    {
     "data": {
      "text/plain": [
       "200"
      ]
     },
     "execution_count": 27,
     "metadata": {},
     "output_type": "execute_result"
    }
   ],
   "source": [
    "#Llamado al API\n",
    "#2fa09423-56ad-0077-93c3-406e97234944   ---> my TOKEN \n",
    "url='https://www.inegi.org.mx/app/api/indicadores/desarrolladores/jsonxml/INDICATOR/1002000003/es/0700/false/BISE/2.0/2fa09423-56ad-0077-93c3-406e97234944?type=json'\n",
    "respuesta = requests.get(url)\n",
    "respuesta.status_code"
   ]
  },
  {
   "cell_type": "code",
   "execution_count": 82,
   "metadata": {
    "scrolled": true
   },
   "outputs": [
    {
     "name": "stdout",
     "output_type": "stream",
     "text": [
      "[7655898, 7330995, 8433718, 9957765, 13094082, 17507809, 24159624, 33807526, 41355676, 46257791, 49891159, 53013433, 57481307, 64540634]\n"
     ]
    }
   ],
   "source": [
    "url='https://www.inegi.org.mx/app/api/indicadores/desarrolladores/jsonxml/INDICATOR/1002000003/es/0700/false/BISE/2.0/2fa09423-56ad-0077-93c3-406e97234944?type=json'\n",
    "respuesta = requests.get(url)\n",
    "respuesta.status_code\n",
    "\n",
    "url='https://www.inegi.org.mx/app/api/indicadores/desarrolladores/jsonxml/INDICATOR/1002000003/es/0700/false/BISE/2.0/2fa09423-56ad-0077-93c3-406e97234944?type=json'\n",
    "respuesta = requests.get(url)\n",
    "if respuesta.status_code == 200:\n",
    "    #print(respuesta.content)\n",
    "    contenido = json.loads(respuesta.content)\n",
    "datos_mujeres = contenido['Series'][0]['OBSERVATIONS']\n",
    "poblacion_mujeres = []\n",
    "periodo = []\n",
    "for dato in datos_mujeres: \n",
    "    poblacion_mujeres.append( int(float( dato['OBS_VALUE']) ) )\n",
    "    periodo.append( int( dato['TIME_PERIOD'] ) )\n",
    "print(poblacion_mujeres)"
   ]
  },
  {
   "cell_type": "code",
   "execution_count": 32,
   "metadata": {},
   "outputs": [
    {
     "name": "stdout",
     "output_type": "stream",
     "text": [
      "[7655898, 7330995, 8433718, 9957765, 13094082, 17507809, 24159624, 33807526, 41355676, 46257791, 49891159, 53013433, 57481307, 64540634]\n"
     ]
    }
   ],
   "source": [
    "url='https://www.inegi.org.mx/app/api/indicadores/desarrolladores/jsonxml/INDICATOR/1002000003/es/0700/false/BISE/2.0/2fa09423-56ad-0077-93c3-406e97234944?type=json'\n",
    "respuesta = requests.get(url)\n",
    "if respuesta.status_code == 200:\n",
    "    #print(respuesta.content)\n",
    "    contenido =  json.loads(respuesta.content)\n",
    "\n",
    "datos_hombres = contenido['Series'][0]['OBSERVATIONS']\n",
    "poblacion_hombres=[]\n",
    "periodo=[]\n",
    "for dato in datos_hombres:\n",
    "    poblacion_hombres.append(int(float(dato['OBS_VALUE']) ) )\n",
    "    periodo.append(int(dato['TIME_PERIOD'])  )\n",
    "\n",
    "print(poblacion_hombres)\n",
    "#print(periodo)"
   ]
  },
  {
   "cell_type": "code",
   "execution_count": 38,
   "metadata": {},
   "outputs": [],
   "source": [
    "df_poblacion = pd.DataFrame()\n",
    "df_poblacion ['periodo'] = periodo \n",
    "df_poblacion ['hombres'] = poblacion_hombres \n",
    "df_poblacion ['mujeres'] = poblacion_mujeres \n",
    "df_poblacion ['total'] = df_poblacion ['hombres'] + df_poblacion ['mujeres']"
   ]
  },
  {
   "cell_type": "code",
   "execution_count": 39,
   "metadata": {},
   "outputs": [
    {
     "data": {
      "text/html": [
       "<div>\n",
       "<style scoped>\n",
       "    .dataframe tbody tr th:only-of-type {\n",
       "        vertical-align: middle;\n",
       "    }\n",
       "\n",
       "    .dataframe tbody tr th {\n",
       "        vertical-align: top;\n",
       "    }\n",
       "\n",
       "    .dataframe thead th {\n",
       "        text-align: right;\n",
       "    }\n",
       "</style>\n",
       "<table border=\"1\" class=\"dataframe\">\n",
       "  <thead>\n",
       "    <tr style=\"text-align: right;\">\n",
       "      <th></th>\n",
       "      <th>periodo</th>\n",
       "      <th>hombres</th>\n",
       "      <th>mujeres</th>\n",
       "      <th>total</th>\n",
       "    </tr>\n",
       "  </thead>\n",
       "  <tbody>\n",
       "    <tr>\n",
       "      <th>0</th>\n",
       "      <td>1910</td>\n",
       "      <td>7655898</td>\n",
       "      <td>7655898</td>\n",
       "      <td>15311796</td>\n",
       "    </tr>\n",
       "    <tr>\n",
       "      <th>1</th>\n",
       "      <td>1921</td>\n",
       "      <td>7330995</td>\n",
       "      <td>7330995</td>\n",
       "      <td>14661990</td>\n",
       "    </tr>\n",
       "    <tr>\n",
       "      <th>2</th>\n",
       "      <td>1930</td>\n",
       "      <td>8433718</td>\n",
       "      <td>8433718</td>\n",
       "      <td>16867436</td>\n",
       "    </tr>\n",
       "    <tr>\n",
       "      <th>3</th>\n",
       "      <td>1940</td>\n",
       "      <td>9957765</td>\n",
       "      <td>9957765</td>\n",
       "      <td>19915530</td>\n",
       "    </tr>\n",
       "    <tr>\n",
       "      <th>4</th>\n",
       "      <td>1950</td>\n",
       "      <td>13094082</td>\n",
       "      <td>13094082</td>\n",
       "      <td>26188164</td>\n",
       "    </tr>\n",
       "    <tr>\n",
       "      <th>5</th>\n",
       "      <td>1960</td>\n",
       "      <td>17507809</td>\n",
       "      <td>17507809</td>\n",
       "      <td>35015618</td>\n",
       "    </tr>\n",
       "    <tr>\n",
       "      <th>6</th>\n",
       "      <td>1970</td>\n",
       "      <td>24159624</td>\n",
       "      <td>24159624</td>\n",
       "      <td>48319248</td>\n",
       "    </tr>\n",
       "    <tr>\n",
       "      <th>7</th>\n",
       "      <td>1980</td>\n",
       "      <td>33807526</td>\n",
       "      <td>33807526</td>\n",
       "      <td>67615052</td>\n",
       "    </tr>\n",
       "    <tr>\n",
       "      <th>8</th>\n",
       "      <td>1990</td>\n",
       "      <td>41355676</td>\n",
       "      <td>41355676</td>\n",
       "      <td>82711352</td>\n",
       "    </tr>\n",
       "    <tr>\n",
       "      <th>9</th>\n",
       "      <td>1995</td>\n",
       "      <td>46257791</td>\n",
       "      <td>46257791</td>\n",
       "      <td>92515582</td>\n",
       "    </tr>\n",
       "    <tr>\n",
       "      <th>10</th>\n",
       "      <td>2000</td>\n",
       "      <td>49891159</td>\n",
       "      <td>49891159</td>\n",
       "      <td>99782318</td>\n",
       "    </tr>\n",
       "    <tr>\n",
       "      <th>11</th>\n",
       "      <td>2005</td>\n",
       "      <td>53013433</td>\n",
       "      <td>53013433</td>\n",
       "      <td>106026866</td>\n",
       "    </tr>\n",
       "    <tr>\n",
       "      <th>12</th>\n",
       "      <td>2010</td>\n",
       "      <td>57481307</td>\n",
       "      <td>57481307</td>\n",
       "      <td>114962614</td>\n",
       "    </tr>\n",
       "    <tr>\n",
       "      <th>13</th>\n",
       "      <td>2020</td>\n",
       "      <td>64540634</td>\n",
       "      <td>64540634</td>\n",
       "      <td>129081268</td>\n",
       "    </tr>\n",
       "  </tbody>\n",
       "</table>\n",
       "</div>"
      ],
      "text/plain": [
       "    periodo   hombres   mujeres      total\n",
       "0      1910   7655898   7655898   15311796\n",
       "1      1921   7330995   7330995   14661990\n",
       "2      1930   8433718   8433718   16867436\n",
       "3      1940   9957765   9957765   19915530\n",
       "4      1950  13094082  13094082   26188164\n",
       "5      1960  17507809  17507809   35015618\n",
       "6      1970  24159624  24159624   48319248\n",
       "7      1980  33807526  33807526   67615052\n",
       "8      1990  41355676  41355676   82711352\n",
       "9      1995  46257791  46257791   92515582\n",
       "10     2000  49891159  49891159   99782318\n",
       "11     2005  53013433  53013433  106026866\n",
       "12     2010  57481307  57481307  114962614\n",
       "13     2020  64540634  64540634  129081268"
      ]
     },
     "execution_count": 39,
     "metadata": {},
     "output_type": "execute_result"
    }
   ],
   "source": [
    "df_poblacion"
   ]
  },
  {
   "cell_type": "code",
   "execution_count": 58,
   "metadata": {},
   "outputs": [
    {
     "data": {
      "image/png": "[encoded data removed]",
      "text/plain": [
       "<Figure size 1080x720 with 1 Axes>"
      ]
     },
     "metadata": {},
     "output_type": "display_data"
    }
   ],
   "source": [
    "plt.style.use('ggplot')\n",
    "plt.figure(figsize=(15,10))\n",
    "plt.plot(df_poblacion['periodo'] , df_poblacion['total'] , \n",
    "         'k-', label='Total')\n",
    "plt.plot(df_poblacion['periodo'] , df_poblacion['mujeres'] , \n",
    "         'r:', label='Mujeres')\n",
    "plt.plot(df_poblacion['periodo'] , df_poblacion['hombres'] , \n",
    "         'b-.', label='Hombres')\n",
    "\n",
    "plt.legend()\n",
    "plt.show()"
   ]
  },
  {
   "cell_type": "code",
   "execution_count": 47,
   "metadata": {},
   "outputs": [
    {
     "data": {
      "image/png": "[encoded data removed]",
      "text/plain": [
       "<Figure size 1080x576 with 1 Axes>"
      ]
     },
     "metadata": {
      "needs_background": "light"
     },
     "output_type": "display_data"
    }
   ],
   "source": [
    "import seaborn as sns\n",
    "plt.figure(figsize=(15,8))\n",
    "plt.title('Population growth in Mexico')\n",
    "sns.barplot(x='periodo', y='Total', data=df, hue='Categoria', palette=[\"#66053A\",\"#0B50D3\",\"#D30B57\"])\n",
    "plt.gca().legend().set_title('Gender')\n",
    "plt.xticks(rotation=90)\n",
    "plt.ylabel(\"Population (in hundreds of millions)\")\n",
    "plt.show()"
   ]
  },
  {
   "cell_type": "markdown",
   "metadata": {},
   "source": [
    "<div class=\"alert alert-success\">\n",
    "2. Mostrar en un mapa  el porcentaje de población de 12 años y más económicamente activa por estados. \n",
    "Utilizar alguna gama de color que a continuación se presenta.\n",
    "\n",
    "</div>"
   ]
  },
  {
   "cell_type": "markdown",
   "metadata": {},
   "source": [
    "<img align=\"left\" style=\"padding-right:10px;\" src=\"figuras/colores.png\">\n"
   ]
  },
  {
   "cell_type": "code",
   "execution_count": 59,
   "metadata": {},
   "outputs": [
    {
     "data": {
      "text/plain": [
       "200"
      ]
     },
     "execution_count": 59,
     "metadata": {},
     "output_type": "execute_result"
    }
   ],
   "source": [
    "#Llamado al API\n",
    "#YlGn\n",
    "#2fa09423-56ad-0077-93c3-406e97234944   ---> my TOKEN \n",
    "    #https://www.inegi.org.mx/app/api/indicadores/desarrolladores/jsonxml/INDICATOR/6207019030/es/07000002/true/BISE/2.0/[Aquí va tu Token]?type=json\n",
    "url='https://www.inegi.org.mx/app/api/indicadores/desarrolladores/jsonxml/INDICATOR/6207019030/es/07000001/true/BISE/2.0/2fa09423-56ad-0077-93c3-406e97234944?type=json'\n",
    "respuesta = requests.get(url)\n",
    "respuesta.status_code"
   ]
  },
  {
   "cell_type": "code",
   "execution_count": 60,
   "metadata": {},
   "outputs": [
    {
     "data": {
      "text/plain": [
       "{'Header': {'Name': 'Datos compactos BISE',\n",
       "  'Email': 'atencion.usuarios@inegi.org.mx'},\n",
       " 'Series': [{'INDICADOR': '6207019030',\n",
       "   'FREQ': '7',\n",
       "   'TOPIC': '18',\n",
       "   'UNIT': '3',\n",
       "   'UNIT_MULT': '',\n",
       "   'NOTE': '',\n",
       "   'SOURCE': '1714,3001',\n",
       "   'LASTUPDATE': '24/01/2021',\n",
       "   'STATUS': '3',\n",
       "   'OBSERVATIONS': [{'TIME_PERIOD': '2020',\n",
       "     'OBS_VALUE': '63.30419738537630000000',\n",
       "     'OBS_EXCEPTION': None,\n",
       "     'OBS_STATUS': '3',\n",
       "     'OBS_SOURCE': '',\n",
       "     'OBS_NOTE': '',\n",
       "     'COBER_GEO': '07000001'}]}]}"
      ]
     },
     "execution_count": 60,
     "metadata": {},
     "output_type": "execute_result"
    }
   ],
   "source": [
    "url='https://www.inegi.org.mx/app/api/indicadores/desarrolladores/jsonxml/INDICATOR/6207019030/es/07000001/true/BISE/2.0/2fa09423-56ad-0077-93c3-406e97234944?type=json'\n",
    "respuesta = requests.get(url)\n",
    "if respuesta.status_code == 200:\n",
    "    #print(respuesta.content)\n",
    "    contenido = json.loads(respuesta.content)\n",
    "contenido"
   ]
  },
  {
   "cell_type": "code",
   "execution_count": 64,
   "metadata": {},
   "outputs": [
    {
     "data": {
      "text/plain": [
       "'63.30419738537630000000'"
      ]
     },
     "execution_count": 64,
     "metadata": {},
     "output_type": "execute_result"
    }
   ],
   "source": [
    "contenido['Series'][0]['OBSERVATIONS'][0]['OBS_VALUE']"
   ]
  },
  {
   "cell_type": "code",
   "execution_count": 81,
   "metadata": {},
   "outputs": [
    {
     "data": {
      "text/plain": [
       "{'Header': {'Name': 'Datos compactos BISE',\n",
       "  'Email': 'atencion.usuarios@inegi.org.mx'},\n",
       " 'Series': [{'INDICADOR': '6207019030',\n",
       "   'FREQ': '7',\n",
       "   'TOPIC': '18',\n",
       "   'UNIT': '3',\n",
       "   'UNIT_MULT': '',\n",
       "   'NOTE': '',\n",
       "   'SOURCE': '1714,3001',\n",
       "   'LASTUPDATE': '24/01/2021',\n",
       "   'STATUS': '3',\n",
       "   'OBSERVATIONS': [{'TIME_PERIOD': '2020',\n",
       "     'OBS_VALUE': '63.30419738537630000000',\n",
       "     'OBS_EXCEPTION': None,\n",
       "     'OBS_STATUS': '3',\n",
       "     'OBS_SOURCE': '',\n",
       "     'OBS_NOTE': '',\n",
       "     'COBER_GEO': '07000001'}]}]}"
      ]
     },
     "execution_count": 81,
     "metadata": {},
     "output_type": "execute_result"
    }
   ],
   "source": [
    "url='https://www.inegi.org.mx/app/api/indicadores/desarrolladores/jsonxml/INDICATOR/6207019030/es/07000001/true/BISE/2.0/2fa09423-56ad-0077-93c3-406e97234944?type=json'\n",
    "respuesta = requests.get(url)\n",
    "if respuesta.status_code == 200:\n",
    "    #print(respuesta.content)\n",
    "    contenido = json.loads(respuesta.content)\n",
    "contenido"
   ]
  },
  {
   "cell_type": "code",
   "execution_count": 74,
   "metadata": {},
   "outputs": [
    {
     "ename": "TypeError",
     "evalue": "can only concatenate str (not \"int\") to str",
     "output_type": "error",
     "traceback": [
      "\u001b[1;31m---------------------------------------------------------------------------\u001b[0m",
      "\u001b[1;31mTypeError\u001b[0m                                 Traceback (most recent call last)",
      "Input \u001b[1;32mIn [74]\u001b[0m, in \u001b[0;36m<cell line: 2>\u001b[1;34m()\u001b[0m\n\u001b[0;32m      1\u001b[0m \u001b[38;5;66;03m#url='https://www.inegi.org.mx/app/api/indicadores/desarrolladores/jsonxml/INDICATOR/6207019030/es/07000001/true/BISE/2.0/2fa09423-56ad-0077-93c3-406e97234944?type=json'\u001b[39;00m\n\u001b[0;32m      2\u001b[0m \u001b[38;5;28;01mfor\u001b[39;00m i \u001b[38;5;129;01min\u001b[39;00m \u001b[38;5;28mrange\u001b[39m(\u001b[38;5;241m1\u001b[39m,\u001b[38;5;241m33\u001b[39m):\n\u001b[1;32m----> 3\u001b[0m     url\u001b[38;5;241m=\u001b[39m\u001b[38;5;124;43m'\u001b[39;49m\u001b[38;5;124;43mhttps://www.inegi.org.mx/app/api/indicadores/desarrolladores/jsonxml/INDICATOR/6207019030/es/0700000\u001b[39;49m\u001b[38;5;124;43m'\u001b[39;49m\u001b[43m \u001b[49m\u001b[38;5;241;43m+\u001b[39;49m\u001b[43m \u001b[49m\u001b[43mi\u001b[49m \u001b[38;5;241m+\u001b[39m \u001b[38;5;124m'\u001b[39m\u001b[38;5;124m/true/BISE/2.0/2fa09423-56ad-0077-93c3-406e97234944?type=json\u001b[39m\u001b[38;5;124m'\u001b[39m\n\u001b[0;32m      4\u001b[0m     \u001b[38;5;28mprint\u001b[39m(url)\n",
      "\u001b[1;31mTypeError\u001b[0m: can only concatenate str (not \"int\") to str"
     ]
    }
   ],
   "source": [
    "#url='https://www.inegi.org.mx/app/api/indicadores/desarrolladores/jsonxml/INDICATOR/6207019030/es/07000001/true/BISE/2.0/2fa09423-56ad-0077-93c3-406e97234944?type=json'\n",
    "for i in range(1,33):\n",
    "    url='https://www.inegi.org.mx/app/api/indicadores/desarrolladores/jsonxml/INDICATOR/6207019030/es/0700000' + i + '/true/BISE/2.0/2fa09423-56ad-0077-93c3-406e97234944?type=json'\n",
    "    print(url)\n",
    "#respuesta = requests.get(url)\n",
    "#respuesta.status_code"
   ]
  },
  {
   "cell_type": "code",
   "execution_count": 80,
   "metadata": {
    "scrolled": true
   },
   "outputs": [
    {
     "name": "stdout",
     "output_type": "stream",
     "text": [
      "https://www.inegi.org.mx/app/api/indicadores/desarrolladores/jsonxml/INDICATOR/6207019030/es/07000001/true/BISE/2.0/2fa09423-56ad-0077-93c3-406e97234944?type=json\n",
      "https://www.inegi.org.mx/app/api/indicadores/desarrolladores/jsonxml/INDICATOR/6207019030/es/07000002/true/BISE/2.0/2fa09423-56ad-0077-93c3-406e97234944?type=json\n",
      "https://www.inegi.org.mx/app/api/indicadores/desarrolladores/jsonxml/INDICATOR/6207019030/es/07000003/true/BISE/2.0/2fa09423-56ad-0077-93c3-406e97234944?type=json\n",
      "https://www.inegi.org.mx/app/api/indicadores/desarrolladores/jsonxml/INDICATOR/6207019030/es/07000004/true/BISE/2.0/2fa09423-56ad-0077-93c3-406e97234944?type=json\n",
      "https://www.inegi.org.mx/app/api/indicadores/desarrolladores/jsonxml/INDICATOR/6207019030/es/07000005/true/BISE/2.0/2fa09423-56ad-0077-93c3-406e97234944?type=json\n",
      "https://www.inegi.org.mx/app/api/indicadores/desarrolladores/jsonxml/INDICATOR/6207019030/es/07000006/true/BISE/2.0/2fa09423-56ad-0077-93c3-406e97234944?type=json\n",
      "https://www.inegi.org.mx/app/api/indicadores/desarrolladores/jsonxml/INDICATOR/6207019030/es/07000007/true/BISE/2.0/2fa09423-56ad-0077-93c3-406e97234944?type=json\n",
      "https://www.inegi.org.mx/app/api/indicadores/desarrolladores/jsonxml/INDICATOR/6207019030/es/07000008/true/BISE/2.0/2fa09423-56ad-0077-93c3-406e97234944?type=json\n",
      "https://www.inegi.org.mx/app/api/indicadores/desarrolladores/jsonxml/INDICATOR/6207019030/es/07000009/true/BISE/2.0/2fa09423-56ad-0077-93c3-406e97234944?type=json\n",
      "https://www.inegi.org.mx/app/api/indicadores/desarrolladores/jsonxml/INDICATOR/6207019030/es/07000010/true/BISE/2.0/2fa09423-56ad-0077-93c3-406e97234944?type=json\n",
      "https://www.inegi.org.mx/app/api/indicadores/desarrolladores/jsonxml/INDICATOR/6207019030/es/07000011/true/BISE/2.0/2fa09423-56ad-0077-93c3-406e97234944?type=json\n",
      "https://www.inegi.org.mx/app/api/indicadores/desarrolladores/jsonxml/INDICATOR/6207019030/es/07000012/true/BISE/2.0/2fa09423-56ad-0077-93c3-406e97234944?type=json\n",
      "https://www.inegi.org.mx/app/api/indicadores/desarrolladores/jsonxml/INDICATOR/6207019030/es/07000013/true/BISE/2.0/2fa09423-56ad-0077-93c3-406e97234944?type=json\n",
      "https://www.inegi.org.mx/app/api/indicadores/desarrolladores/jsonxml/INDICATOR/6207019030/es/07000014/true/BISE/2.0/2fa09423-56ad-0077-93c3-406e97234944?type=json\n",
      "https://www.inegi.org.mx/app/api/indicadores/desarrolladores/jsonxml/INDICATOR/6207019030/es/07000015/true/BISE/2.0/2fa09423-56ad-0077-93c3-406e97234944?type=json\n",
      "https://www.inegi.org.mx/app/api/indicadores/desarrolladores/jsonxml/INDICATOR/6207019030/es/07000016/true/BISE/2.0/2fa09423-56ad-0077-93c3-406e97234944?type=json\n",
      "https://www.inegi.org.mx/app/api/indicadores/desarrolladores/jsonxml/INDICATOR/6207019030/es/07000017/true/BISE/2.0/2fa09423-56ad-0077-93c3-406e97234944?type=json\n",
      "https://www.inegi.org.mx/app/api/indicadores/desarrolladores/jsonxml/INDICATOR/6207019030/es/07000018/true/BISE/2.0/2fa09423-56ad-0077-93c3-406e97234944?type=json\n",
      "https://www.inegi.org.mx/app/api/indicadores/desarrolladores/jsonxml/INDICATOR/6207019030/es/07000019/true/BISE/2.0/2fa09423-56ad-0077-93c3-406e97234944?type=json\n",
      "https://www.inegi.org.mx/app/api/indicadores/desarrolladores/jsonxml/INDICATOR/6207019030/es/07000020/true/BISE/2.0/2fa09423-56ad-0077-93c3-406e97234944?type=json\n",
      "https://www.inegi.org.mx/app/api/indicadores/desarrolladores/jsonxml/INDICATOR/6207019030/es/07000021/true/BISE/2.0/2fa09423-56ad-0077-93c3-406e97234944?type=json\n",
      "https://www.inegi.org.mx/app/api/indicadores/desarrolladores/jsonxml/INDICATOR/6207019030/es/07000022/true/BISE/2.0/2fa09423-56ad-0077-93c3-406e97234944?type=json\n",
      "https://www.inegi.org.mx/app/api/indicadores/desarrolladores/jsonxml/INDICATOR/6207019030/es/07000023/true/BISE/2.0/2fa09423-56ad-0077-93c3-406e97234944?type=json\n",
      "https://www.inegi.org.mx/app/api/indicadores/desarrolladores/jsonxml/INDICATOR/6207019030/es/07000024/true/BISE/2.0/2fa09423-56ad-0077-93c3-406e97234944?type=json\n",
      "https://www.inegi.org.mx/app/api/indicadores/desarrolladores/jsonxml/INDICATOR/6207019030/es/07000025/true/BISE/2.0/2fa09423-56ad-0077-93c3-406e97234944?type=json\n",
      "https://www.inegi.org.mx/app/api/indicadores/desarrolladores/jsonxml/INDICATOR/6207019030/es/07000026/true/BISE/2.0/2fa09423-56ad-0077-93c3-406e97234944?type=json\n",
      "https://www.inegi.org.mx/app/api/indicadores/desarrolladores/jsonxml/INDICATOR/6207019030/es/07000027/true/BISE/2.0/2fa09423-56ad-0077-93c3-406e97234944?type=json\n",
      "https://www.inegi.org.mx/app/api/indicadores/desarrolladores/jsonxml/INDICATOR/6207019030/es/07000028/true/BISE/2.0/2fa09423-56ad-0077-93c3-406e97234944?type=json\n",
      "https://www.inegi.org.mx/app/api/indicadores/desarrolladores/jsonxml/INDICATOR/6207019030/es/07000029/true/BISE/2.0/2fa09423-56ad-0077-93c3-406e97234944?type=json\n",
      "https://www.inegi.org.mx/app/api/indicadores/desarrolladores/jsonxml/INDICATOR/6207019030/es/07000030/true/BISE/2.0/2fa09423-56ad-0077-93c3-406e97234944?type=json\n",
      "https://www.inegi.org.mx/app/api/indicadores/desarrolladores/jsonxml/INDICATOR/6207019030/es/07000031/true/BISE/2.0/2fa09423-56ad-0077-93c3-406e97234944?type=json\n",
      "https://www.inegi.org.mx/app/api/indicadores/desarrolladores/jsonxml/INDICATOR/6207019030/es/07000032/true/BISE/2.0/2fa09423-56ad-0077-93c3-406e97234944?type=json\n"
     ]
    }
   ],
   "source": [
    "token = '2fa09423-56ad-0077-93c3-406e97234944'\n",
    "for i in range(1,33):\n",
    "  estado= 7000000+i\n",
    "  url='https://www.inegi.org.mx/app/api/indicadores/desarrolladores/jsonxml/INDICATOR/6207019030/es/0' + str(estado) + '/true/BISE/2.0/' + token + '?type=json'\n",
    "  respuesta = requests.get(url)\n",
    "  respuesta.status_code\n",
    "  if respuesta.status_code == 200:\n",
    "    #print(respuesta.content)\n",
    "    contenido = json.loads(respuesta.content)\n",
    "datos_mujeres = contenido['Series'][0]['OBSERVATIONS']\n",
    "poblacion_mujeres = []\n",
    "periodo = []\n",
    "for dato in datos_mujeres: \n",
    "    poblacion_mujeres.append( int(float( dato['OBS_VALUE']) ) )\n",
    "    periodo.append( int( dato['TIME_PERIOD'] ) )\n",
    "print(poblacion_mujeres)"
   ]
  },
  {
   "cell_type": "code",
   "execution_count": 89,
   "metadata": {},
   "outputs": [
    {
     "name": "stdout",
     "output_type": "stream",
     "text": [
      "['63.30419738537630000000', '65.50967220698330000000', '67.04576837136900000000', '63.34175412653100000000', '59.98668520073800000000', '65.26616791130440000000', '61.18853970866390000000', '62.27298259378670000000', '64.43001256143170000000', '57.78312728926410000000', '61.83860316024550000000', '60.59071226519620000000', '61.11145460462090000000', '64.10289561964080000000', '62.17355108442960000000', '62.06108318674390000000', '63.59053003092110000000', '62.79576716088250000000', '61.42117109576800000000', '56.78051739018870000000', '61.98868971056730000000', '65.03109740372410000000', '68.47180822232700000000', '60.62392606903430000000', '60.62192257353160000000', '60.99953764877980000000', '62.33779076444090000000', '61.33460109339010000000', '61.01840726540700000000', '59.16222130562650000000', '61.74074807213810000000', '56.02775209175680000000']\n"
     ]
    }
   ],
   "source": [
    "id_estados=[]\n",
    "lista_porcentaje=[]\n",
    "token = '2fa09423-56ad-0077-93c3-406e97234944'\n",
    "for i in range(1,33):\n",
    "  estado= 7000000+i\n",
    "  url='https://www.inegi.org.mx/app/api/indicadores/desarrolladores/jsonxml/INDICATOR/6207019030/es/0' + str(estado) + '/true/BISE/2.0/' + token + '?type=json'\n",
    "  #print(url)\n",
    "  respuesta = requests.get(url)\n",
    "  if respuesta.status_code == 200:\n",
    "    #print(respuesta.content)\n",
    "    contenido =  json.loads(respuesta.content)\n",
    "  lista_porcentaje.append(contenido['Series'][0]['OBSERVATIONS'][0]['OBS_VALUE'])\n",
    "  id_estados.append(i)\n",
    "\n",
    "print(lista_porcentaje)\n",
    "#print(id_estados)"
   ]
  },
  {
   "cell_type": "code",
   "execution_count": 87,
   "metadata": {},
   "outputs": [
    {
     "name": "stdout",
     "output_type": "stream",
     "text": [
      "[7655898, 7330995, 8433718, 9957765, 13094082, 17507809, 24159624, 33807526, 41355676, 46257791, 49891159, 53013433, 57481307, 64540634]\n"
     ]
    }
   ],
   "source": [
    "url = 'https://www.inegi.org.mx/app/api/indicadores/desarrolladores/jsonxml/INDICATOR/1002000003/es/0700/false/BISE/2.0/2fa09423-56ad-0077-93c3-406e97234944?type=json'\n",
    "respuesta = requests.get(url)\n",
    "respuesta.status_code\n",
    "\n",
    "url='https://www.inegi.org.mx/app/api/indicadores/desarrolladores/jsonxml/INDICATOR/1002000003/es/0700/false/BISE/2.0/2fa09423-56ad-0077-93c3-406e97234944?type=json'\n",
    "respuesta = requests.get(url)\n",
    "if respuesta.status_code == 200:\n",
    "    #print(respuesta.content)\n",
    "    contenido = json.loads(respuesta.content)\n",
    "datos_mujeres = contenido['Series'][0]['OBSERVATIONS']\n",
    "poblacion_mujeres = []\n",
    "periodo = []\n",
    "for dato in datos_mujeres: \n",
    "    poblacion_mujeres.append( int(float( dato['OBS_VALUE']) ) )\n",
    "    periodo.append( int( dato['TIME_PERIOD'] ) )\n",
    "print(poblacion_mujeres)"
   ]
  },
  {
   "cell_type": "code",
   "execution_count": 86,
   "metadata": {},
   "outputs": [
    {
     "name": "stdout",
     "output_type": "stream",
     "text": [
      "https://www.inegi.org.mx/app/api/indicadores/desarrolladores/jsonxml/INDICATOR/6207019030/es/07000001/true/BISE/2.0/2fa09423-56ad-0077-93c3-406e97234944?type=json\n",
      "https://www.inegi.org.mx/app/api/indicadores/desarrolladores/jsonxml/INDICATOR/6207019030/es/07000002/true/BISE/2.0/2fa09423-56ad-0077-93c3-406e97234944?type=json\n",
      "https://www.inegi.org.mx/app/api/indicadores/desarrolladores/jsonxml/INDICATOR/6207019030/es/07000003/true/BISE/2.0/2fa09423-56ad-0077-93c3-406e97234944?type=json\n",
      "https://www.inegi.org.mx/app/api/indicadores/desarrolladores/jsonxml/INDICATOR/6207019030/es/07000004/true/BISE/2.0/2fa09423-56ad-0077-93c3-406e97234944?type=json\n",
      "https://www.inegi.org.mx/app/api/indicadores/desarrolladores/jsonxml/INDICATOR/6207019030/es/07000005/true/BISE/2.0/2fa09423-56ad-0077-93c3-406e97234944?type=json\n",
      "https://www.inegi.org.mx/app/api/indicadores/desarrolladores/jsonxml/INDICATOR/6207019030/es/07000006/true/BISE/2.0/2fa09423-56ad-0077-93c3-406e97234944?type=json\n",
      "https://www.inegi.org.mx/app/api/indicadores/desarrolladores/jsonxml/INDICATOR/6207019030/es/07000007/true/BISE/2.0/2fa09423-56ad-0077-93c3-406e97234944?type=json\n",
      "https://www.inegi.org.mx/app/api/indicadores/desarrolladores/jsonxml/INDICATOR/6207019030/es/07000008/true/BISE/2.0/2fa09423-56ad-0077-93c3-406e97234944?type=json\n",
      "https://www.inegi.org.mx/app/api/indicadores/desarrolladores/jsonxml/INDICATOR/6207019030/es/07000009/true/BISE/2.0/2fa09423-56ad-0077-93c3-406e97234944?type=json\n",
      "https://www.inegi.org.mx/app/api/indicadores/desarrolladores/jsonxml/INDICATOR/6207019030/es/07000010/true/BISE/2.0/2fa09423-56ad-0077-93c3-406e97234944?type=json\n",
      "https://www.inegi.org.mx/app/api/indicadores/desarrolladores/jsonxml/INDICATOR/6207019030/es/07000011/true/BISE/2.0/2fa09423-56ad-0077-93c3-406e97234944?type=json\n",
      "https://www.inegi.org.mx/app/api/indicadores/desarrolladores/jsonxml/INDICATOR/6207019030/es/07000012/true/BISE/2.0/2fa09423-56ad-0077-93c3-406e97234944?type=json\n",
      "https://www.inegi.org.mx/app/api/indicadores/desarrolladores/jsonxml/INDICATOR/6207019030/es/07000013/true/BISE/2.0/2fa09423-56ad-0077-93c3-406e97234944?type=json\n",
      "https://www.inegi.org.mx/app/api/indicadores/desarrolladores/jsonxml/INDICATOR/6207019030/es/07000014/true/BISE/2.0/2fa09423-56ad-0077-93c3-406e97234944?type=json\n",
      "https://www.inegi.org.mx/app/api/indicadores/desarrolladores/jsonxml/INDICATOR/6207019030/es/07000015/true/BISE/2.0/2fa09423-56ad-0077-93c3-406e97234944?type=json\n",
      "https://www.inegi.org.mx/app/api/indicadores/desarrolladores/jsonxml/INDICATOR/6207019030/es/07000016/true/BISE/2.0/2fa09423-56ad-0077-93c3-406e97234944?type=json\n",
      "https://www.inegi.org.mx/app/api/indicadores/desarrolladores/jsonxml/INDICATOR/6207019030/es/07000017/true/BISE/2.0/2fa09423-56ad-0077-93c3-406e97234944?type=json\n",
      "https://www.inegi.org.mx/app/api/indicadores/desarrolladores/jsonxml/INDICATOR/6207019030/es/07000018/true/BISE/2.0/2fa09423-56ad-0077-93c3-406e97234944?type=json\n",
      "https://www.inegi.org.mx/app/api/indicadores/desarrolladores/jsonxml/INDICATOR/6207019030/es/07000019/true/BISE/2.0/2fa09423-56ad-0077-93c3-406e97234944?type=json\n",
      "https://www.inegi.org.mx/app/api/indicadores/desarrolladores/jsonxml/INDICATOR/6207019030/es/07000020/true/BISE/2.0/2fa09423-56ad-0077-93c3-406e97234944?type=json\n",
      "https://www.inegi.org.mx/app/api/indicadores/desarrolladores/jsonxml/INDICATOR/6207019030/es/07000021/true/BISE/2.0/2fa09423-56ad-0077-93c3-406e97234944?type=json\n",
      "https://www.inegi.org.mx/app/api/indicadores/desarrolladores/jsonxml/INDICATOR/6207019030/es/07000022/true/BISE/2.0/2fa09423-56ad-0077-93c3-406e97234944?type=json\n",
      "https://www.inegi.org.mx/app/api/indicadores/desarrolladores/jsonxml/INDICATOR/6207019030/es/07000023/true/BISE/2.0/2fa09423-56ad-0077-93c3-406e97234944?type=json\n",
      "https://www.inegi.org.mx/app/api/indicadores/desarrolladores/jsonxml/INDICATOR/6207019030/es/07000024/true/BISE/2.0/2fa09423-56ad-0077-93c3-406e97234944?type=json\n",
      "https://www.inegi.org.mx/app/api/indicadores/desarrolladores/jsonxml/INDICATOR/6207019030/es/07000025/true/BISE/2.0/2fa09423-56ad-0077-93c3-406e97234944?type=json\n",
      "https://www.inegi.org.mx/app/api/indicadores/desarrolladores/jsonxml/INDICATOR/6207019030/es/07000026/true/BISE/2.0/2fa09423-56ad-0077-93c3-406e97234944?type=json\n",
      "https://www.inegi.org.mx/app/api/indicadores/desarrolladores/jsonxml/INDICATOR/6207019030/es/07000027/true/BISE/2.0/2fa09423-56ad-0077-93c3-406e97234944?type=json\n",
      "https://www.inegi.org.mx/app/api/indicadores/desarrolladores/jsonxml/INDICATOR/6207019030/es/07000028/true/BISE/2.0/2fa09423-56ad-0077-93c3-406e97234944?type=json\n",
      "https://www.inegi.org.mx/app/api/indicadores/desarrolladores/jsonxml/INDICATOR/6207019030/es/07000029/true/BISE/2.0/2fa09423-56ad-0077-93c3-406e97234944?type=json\n",
      "https://www.inegi.org.mx/app/api/indicadores/desarrolladores/jsonxml/INDICATOR/6207019030/es/07000030/true/BISE/2.0/2fa09423-56ad-0077-93c3-406e97234944?type=json\n",
      "https://www.inegi.org.mx/app/api/indicadores/desarrolladores/jsonxml/INDICATOR/6207019030/es/07000031/true/BISE/2.0/2fa09423-56ad-0077-93c3-406e97234944?type=json\n",
      "https://www.inegi.org.mx/app/api/indicadores/desarrolladores/jsonxml/INDICATOR/6207019030/es/07000032/true/BISE/2.0/2fa09423-56ad-0077-93c3-406e97234944?type=json\n"
     ]
    }
   ],
   "source": [
    "i=1\n",
    "token = '2fa09423-56ad-0077-93c3-406e97234944'\n",
    "while i<33:\n",
    "  if i<10:\n",
    "    url='https://www.inegi.org.mx/app/api/indicadores/desarrolladores/jsonxml/INDICATOR/6207019030/es/0700000'+str(i)+'/true/BISE/2.0/'+token+'?type=json'\n",
    "  else:\n",
    "    url='https://www.inegi.org.mx/app/api/indicadores/desarrolladores/jsonxml/INDICATOR/6207019030/es/070000'+str(i)+'/true/BISE/2.0/'+token+'?type=json'\n",
    "  print(url)\n",
    "  i+=1"
   ]
  },
  {
   "cell_type": "code",
   "execution_count": null,
   "metadata": {},
   "outputs": [],
   "source": []
  },
  {
   "cell_type": "code",
   "execution_count": null,
   "metadata": {},
   "outputs": [],
   "source": []
  }
 ],
 "metadata": {
  "kernelspec": {
   "display_name": "Python 3 (ipykernel)",
   "language": "python",
   "name": "python3"
  },
  "language_info": {
   "codemirror_mode": {
    "name": "ipython",
    "version": 3
   },
   "file_extension": ".py",
   "mimetype": "text/x-python",
   "name": "python",
   "nbconvert_exporter": "python",
   "pygments_lexer": "ipython3",
   "version": "3.9.7"
  }
 },
 "nbformat": 4,
 "nbformat_minor": 4
}
